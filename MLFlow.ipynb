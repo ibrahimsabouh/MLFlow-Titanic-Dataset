{
 "cells": [
  {
   "cell_type": "code",
   "execution_count": 1,
   "id": "a6ded2fb-914f-43ba-95c5-e3177b8a9903",
   "metadata": {},
   "outputs": [],
   "source": [
    "import numpy as np\n",
    "import pandas as pd\n",
    "import mlflow\n",
    "import mlflow.sklearn\n",
    "from sklearn.model_selection import train_test_split\n",
    "from sklearn.preprocessing import StandardScaler, MinMaxScaler, RobustScaler\n",
    "from sklearn.tree import DecisionTreeClassifier\n",
    "from sklearn.ensemble import RandomForestClassifier, GradientBoostingClassifier\n",
    "from sklearn.metrics import classification_report, accuracy_score\n",
    "from mlflow.models.signature import infer_signature\n",
    "from mlflow.tracking import MlflowClient\n",
    "import os"
   ]
  },
  {
   "cell_type": "code",
   "execution_count": 2,
   "id": "443d605a-d53e-49dc-a6ed-820975092926",
   "metadata": {},
   "outputs": [],
   "source": [
    "# Read my dataset \"df_train\"\n",
    "df_train = pd.read_csv(\"train.csv\")\n",
    "\n",
    "# Drop irrelevant columns\n",
    "df_train = df_train.drop(['PassengerId', 'Name', 'Ticket', 'Cabin'], axis=1)\n",
    "\n",
    "# Handle missing values\n",
    "df_train['Age'] = df_train['Age'].fillna(df_train['Age'].median()).astype(int)\n",
    "df_train['Embarked'] = df_train['Embarked'].fillna(df_train['Embarked'].mode()[0])\n",
    "\n",
    "# Convert categorical variables to numeric\n",
    "df_train = pd.get_dummies(df_train, columns=['Sex','Embarked'], drop_first=True)\n",
    "\n",
    "# Change the data type of the new dummy columns to integer\n",
    "dummy_columns = [col for col in df_train.columns if 'Sex_' in col or 'Embarked_' in col]\n",
    "df_train[dummy_columns] = df_train[dummy_columns].astype(int)\n",
    "\n",
    "# Rearrange columns in the \"df_train\" dataset\n",
    "df_train.columns = ['Pclass', 'Age', 'SibSp', 'Parch', 'Fare', 'Sex_male', 'Embarked_Q', 'Embarked_S', 'Survived']"
   ]
  },
  {
   "cell_type": "code",
   "execution_count": 3,
   "id": "deffc0c7-7ad0-48f2-a7a6-f1a847f673d5",
   "metadata": {},
   "outputs": [],
   "source": [
    "# Split the dataset into features (X) and target (y)\n",
    "X = df_train.drop('Survived', axis=1)\n",
    "y = df_train['Survived']\n",
    "\n",
    "# Define scalers\n",
    "scalers = {\n",
    "    'StandardScaler': StandardScaler(),\n",
    "    'MinMaxScaler': MinMaxScaler(),\n",
    "    'RobustScaler': RobustScaler()\n",
    "}\n",
    "\n",
    "# Define models\n",
    "models = {\n",
    "    'Decision Tree': DecisionTreeClassifier(),\n",
    "    'Random Forest': RandomForestClassifier(),\n",
    "    'Gradient Boosting': GradientBoostingClassifier()\n",
    "}\n",
    "\n",
    "# Split into training and test sets\n",
    "X_train, X_test, y_train, y_test = train_test_split(X, y, test_size=0.2, random_state=42)"
   ]
  },
  {
   "cell_type": "code",
   "execution_count": 4,
   "id": "0902a8c0-d9f8-41c0-a485-6062e6136015",
   "metadata": {},
   "outputs": [
    {
     "name": "stderr",
     "output_type": "stream",
     "text": [
      "2025/01/05 15:23:29 INFO mlflow.tracking.fluent: Experiment with name 'Titanic Experiment' does not exist. Creating a new experiment.\n"
     ]
    },
    {
     "data": {
      "application/vnd.jupyter.widget-view+json": {
       "model_id": "3ee5f5f005d440a0aa9b13430d80da86",
       "version_major": 2,
       "version_minor": 0
      },
      "text/plain": [
       "Downloading artifacts:   0%|          | 0/7 [00:00<?, ?it/s]"
      ]
     },
     "metadata": {},
     "output_type": "display_data"
    },
    {
     "name": "stdout",
     "output_type": "stream",
     "text": [
      "Logged Decision Tree with StandardScaler: Accuracy=0.8492\n"
     ]
    },
    {
     "data": {
      "application/vnd.jupyter.widget-view+json": {
       "model_id": "9f648c30553d4360b1a99124087f2562",
       "version_major": 2,
       "version_minor": 0
      },
      "text/plain": [
       "Downloading artifacts:   0%|          | 0/7 [00:00<?, ?it/s]"
      ]
     },
     "metadata": {},
     "output_type": "display_data"
    },
    {
     "name": "stdout",
     "output_type": "stream",
     "text": [
      "Logged Random Forest with StandardScaler: Accuracy=0.8212\n"
     ]
    },
    {
     "data": {
      "application/vnd.jupyter.widget-view+json": {
       "model_id": "00827ec6110f4a6bb84b68c3989d20fe",
       "version_major": 2,
       "version_minor": 0
      },
      "text/plain": [
       "Downloading artifacts:   0%|          | 0/7 [00:00<?, ?it/s]"
      ]
     },
     "metadata": {},
     "output_type": "display_data"
    },
    {
     "name": "stdout",
     "output_type": "stream",
     "text": [
      "Logged Gradient Boosting with StandardScaler: Accuracy=0.8268\n"
     ]
    },
    {
     "data": {
      "application/vnd.jupyter.widget-view+json": {
       "model_id": "90a10316a0734a22bc8b2110455e63a6",
       "version_major": 2,
       "version_minor": 0
      },
      "text/plain": [
       "Downloading artifacts:   0%|          | 0/7 [00:00<?, ?it/s]"
      ]
     },
     "metadata": {},
     "output_type": "display_data"
    },
    {
     "name": "stdout",
     "output_type": "stream",
     "text": [
      "Model registry 'Decision Tree_Model_Registry' already exists. Continuing...\n",
      "Logged Decision Tree with MinMaxScaler: Accuracy=0.8547\n"
     ]
    },
    {
     "data": {
      "application/vnd.jupyter.widget-view+json": {
       "model_id": "37189c325b3447d3a1a035e671290a23",
       "version_major": 2,
       "version_minor": 0
      },
      "text/plain": [
       "Downloading artifacts:   0%|          | 0/7 [00:00<?, ?it/s]"
      ]
     },
     "metadata": {},
     "output_type": "display_data"
    },
    {
     "name": "stdout",
     "output_type": "stream",
     "text": [
      "Model registry 'Random Forest_Model_Registry' already exists. Continuing...\n",
      "Logged Random Forest with MinMaxScaler: Accuracy=0.8324\n"
     ]
    },
    {
     "data": {
      "application/vnd.jupyter.widget-view+json": {
       "model_id": "8befcfd450694e62af70cb32fb2adadc",
       "version_major": 2,
       "version_minor": 0
      },
      "text/plain": [
       "Downloading artifacts:   0%|          | 0/7 [00:00<?, ?it/s]"
      ]
     },
     "metadata": {},
     "output_type": "display_data"
    },
    {
     "name": "stdout",
     "output_type": "stream",
     "text": [
      "Model registry 'Gradient Boosting_Model_Registry' already exists. Continuing...\n",
      "Logged Gradient Boosting with MinMaxScaler: Accuracy=0.8268\n"
     ]
    },
    {
     "data": {
      "application/vnd.jupyter.widget-view+json": {
       "model_id": "ab2f4aacc6cc46bfadad9d1c743f5775",
       "version_major": 2,
       "version_minor": 0
      },
      "text/plain": [
       "Downloading artifacts:   0%|          | 0/7 [00:00<?, ?it/s]"
      ]
     },
     "metadata": {},
     "output_type": "display_data"
    },
    {
     "name": "stdout",
     "output_type": "stream",
     "text": [
      "Model registry 'Decision Tree_Model_Registry' already exists. Continuing...\n",
      "Logged Decision Tree with RobustScaler: Accuracy=0.8603\n"
     ]
    },
    {
     "data": {
      "application/vnd.jupyter.widget-view+json": {
       "model_id": "72998bdc3cb544aeadbabc52d792eee5",
       "version_major": 2,
       "version_minor": 0
      },
      "text/plain": [
       "Downloading artifacts:   0%|          | 0/7 [00:00<?, ?it/s]"
      ]
     },
     "metadata": {},
     "output_type": "display_data"
    },
    {
     "name": "stdout",
     "output_type": "stream",
     "text": [
      "Model registry 'Random Forest_Model_Registry' already exists. Continuing...\n",
      "Logged Random Forest with RobustScaler: Accuracy=0.8212\n"
     ]
    },
    {
     "data": {
      "application/vnd.jupyter.widget-view+json": {
       "model_id": "f5e276344e7d4cbd944f4d1c79639026",
       "version_major": 2,
       "version_minor": 0
      },
      "text/plain": [
       "Downloading artifacts:   0%|          | 0/7 [00:00<?, ?it/s]"
      ]
     },
     "metadata": {},
     "output_type": "display_data"
    },
    {
     "name": "stdout",
     "output_type": "stream",
     "text": [
      "Model registry 'Gradient Boosting_Model_Registry' already exists. Continuing...\n",
      "Logged Gradient Boosting with RobustScaler: Accuracy=0.8268\n"
     ]
    }
   ],
   "source": [
    "# MLflow setup\n",
    "mlflow.set_experiment(\"Titanic Experiment\")\n",
    "client = MlflowClient()\n",
    "\n",
    "# Iterate over scalers and models\n",
    "for scaler_name, scaler in scalers.items():\n",
    "    # Scale the data\n",
    "    X_train_scaled = scaler.fit_transform(X_train)\n",
    "    X_test_scaled = scaler.transform(X_test)\n",
    "\n",
    "    for model_name, model in models.items():\n",
    "        with mlflow.start_run(run_name=f\"{model_name} with {scaler_name}\"):\n",
    "            # Train the model\n",
    "            model.fit(X_train_scaled, y_train)\n",
    "            predictions = model.predict(X_test_scaled)\n",
    "\n",
    "            # Calculate accuracy\n",
    "            accuracy = accuracy_score(y_test, predictions)\n",
    "\n",
    "            # Log parameters and metrics\n",
    "            mlflow.log_param(\"scaler\", scaler_name)\n",
    "            mlflow.log_param(\"model\", model_name)\n",
    "            mlflow.log_metric(\"accuracy\", accuracy)\n",
    "\n",
    "            # Log classification report as artifact\n",
    "            report = classification_report(y_test, predictions, output_dict=True)\n",
    "            report_path = f\"classification_report_{model_name}_{scaler_name}.txt\"\n",
    "            with open(report_path, \"w\") as f:\n",
    "                f.write(classification_report(y_test, predictions))\n",
    "            mlflow.log_artifact(report_path)\n",
    "            os.remove(report_path)\n",
    "\n",
    "            # Log the model with input example and signature\n",
    "            input_example = pd.DataFrame(X_train_scaled[:5], columns=X.columns)  # Create an input example\n",
    "            signature = infer_signature(X_train_scaled, model.predict(X_train_scaled))  # Infer input-output signature\n",
    "            model_info = mlflow.sklearn.log_model(\n",
    "                sk_model=model,\n",
    "                artifact_path=f\"{model_name}_model\",\n",
    "                input_example=input_example,\n",
    "                signature=signature\n",
    "            )\n",
    "\n",
    "            # Register the model to the registry\n",
    "            model_uri = model_info.model_uri\n",
    "            registered_model_name = f\"{model_name}_Model_Registry\"\n",
    "            try:\n",
    "                client.create_registered_model(registered_model_name)  # Create registry entry (if not exists)\n",
    "            except Exception as e:\n",
    "                print(f\"Model registry '{registered_model_name}' already exists. Continuing...\")\n",
    "\n",
    "            model_version = client.create_model_version(\n",
    "                name=registered_model_name,\n",
    "                source=model_uri,\n",
    "                run_id=mlflow.active_run().info.run_id\n",
    "            )\n",
    "\n",
    "            # Add tags to indicate the model's lifecycle stage\n",
    "            client.set_model_version_tag(\n",
    "                name=registered_model_name,\n",
    "                version=model_version.version,\n",
    "                key=\"stage\",\n",
    "                value=\"Staging\"  # Replace with \"Production\" or other stages\n",
    "            )\n",
    "\n",
    "            # Update metadata for better clarity\n",
    "            client.update_model_version(\n",
    "                name=registered_model_name,\n",
    "                version=model_version.version,\n",
    "                description=f\"Model trained with {scaler_name}. Accuracy: {accuracy:.4f}\"\n",
    "            )\n",
    "\n",
    "            print(f\"Logged {model_name} with {scaler_name}: Accuracy={accuracy:.4f}\")"
   ]
  },
  {
   "cell_type": "code",
   "execution_count": null,
   "id": "b4b567ad-d399-4a10-84a0-116159741dda",
   "metadata": {},
   "outputs": [],
   "source": []
  }
 ],
 "metadata": {
  "kernelspec": {
   "display_name": "Python 3 (ipykernel)",
   "language": "python",
   "name": "python3"
  },
  "language_info": {
   "codemirror_mode": {
    "name": "ipython",
    "version": 3
   },
   "file_extension": ".py",
   "mimetype": "text/x-python",
   "name": "python",
   "nbconvert_exporter": "python",
   "pygments_lexer": "ipython3",
   "version": "3.12.3"
  }
 },
 "nbformat": 4,
 "nbformat_minor": 5
}
